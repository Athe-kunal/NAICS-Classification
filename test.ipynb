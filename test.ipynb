{
 "cells": [
  {
   "cell_type": "code",
   "execution_count": 1,
   "metadata": {},
   "outputs": [],
   "source": [
    "from app.vectordb import build_database\n",
    "%load_ext autoreload\n",
    "%autoreload 2"
   ]
  },
  {
   "cell_type": "code",
   "execution_count": 2,
   "metadata": {},
   "outputs": [
    {
     "name": "stdout",
     "output_type": "stream",
     "text": [
      "Database built successfully.\n"
     ]
    },
    {
     "data": {
      "text/plain": [
       "Collection(name=naics_collection-openai)"
      ]
     },
     "execution_count": 2,
     "metadata": {},
     "output_type": "execute_result"
    }
   ],
   "source": [
    "build_database()"
   ]
  },
  {
   "cell_type": "code",
   "execution_count": 3,
   "metadata": {},
   "outputs": [],
   "source": [
    "from app.vectordb import load_database\n",
    "\n",
    "naics_collection = load_database()"
   ]
  },
  {
   "cell_type": "code",
   "execution_count": 46,
   "metadata": {},
   "outputs": [
    {
     "name": "stdout",
     "output_type": "stream",
     "text": [
      "The autoreload extension is already loaded. To reload it, use:\n",
      "  %reload_ext autoreload\n"
     ]
    },
    {
     "name": "stderr",
     "output_type": "stream",
     "text": [
      "Fetching 4 files: 100%|██████████| 4/4 [00:00<00:00, 27458.62it/s]\n"
     ]
    }
   ],
   "source": [
    "from app.prediction import Prediction\n",
    "%load_ext autoreload\n",
    "%autoreload 2\n",
    "\n",
    "pred = Prediction(naics_collection,n_results=1)"
   ]
  },
  {
   "cell_type": "code",
   "execution_count": 47,
   "metadata": {},
   "outputs": [
    {
     "name": "stderr",
     "output_type": "stream",
     "text": [
      "Asking to truncate to max_length but no maximum length is provided and the model has no predefined maximum length. Default to no truncation.\n"
     ]
    }
   ],
   "source": [
    "question = \"How many software development companies are there in Silicon Valley?\"\n",
    "\n",
    "qemb = pred.pipeline(question)"
   ]
  },
  {
   "cell_type": "code",
   "execution_count": 48,
   "metadata": {},
   "outputs": [
    {
     "data": {
      "text/plain": [
       "(['Professional, Scientific, and Technical Services'],\n",
       " ['54'],\n",
       " ['Custom Computer Programming Services'],\n",
       " ['541511'])"
      ]
     },
     "execution_count": 48,
     "metadata": {},
     "output_type": "execute_result"
    }
   ],
   "source": [
    "qemb"
   ]
  },
  {
   "cell_type": "code",
   "execution_count": 17,
   "metadata": {},
   "outputs": [],
   "source": [
    "question_emb = pred.emb_fn([question])"
   ]
  },
  {
   "cell_type": "code",
   "execution_count": 4,
   "metadata": {},
   "outputs": [],
   "source": [
    "from app.gliner import get_entities\n",
    "\n",
    "entities = get_entities(pred.gliner_model,question)"
   ]
  },
  {
   "cell_type": "code",
   "execution_count": 5,
   "metadata": {},
   "outputs": [
    {
     "data": {
      "text/plain": [
       "['software development companies']"
      ]
     },
     "execution_count": 5,
     "metadata": {},
     "output_type": "execute_result"
    }
   ],
   "source": [
    "query_texts = [entity[\"text\"] for entity in entities]\n",
    "query_texts"
   ]
  },
  {
   "cell_type": "code",
   "execution_count": 18,
   "metadata": {},
   "outputs": [],
   "source": [
    "rdocs = pred.query_database(question_emb,\"parent\")"
   ]
  },
  {
   "cell_type": "code",
   "execution_count": 20,
   "metadata": {},
   "outputs": [
    {
     "data": {
      "text/plain": [
       "['Professional, Scientific, and Technical Services']"
      ]
     },
     "execution_count": 20,
     "metadata": {},
     "output_type": "execute_result"
    }
   ],
   "source": [
    "parent_names = [parent_name for parent_name in rdocs['documents'][0]]\n",
    "parent_names"
   ]
  },
  {
   "cell_type": "code",
   "execution_count": 23,
   "metadata": {},
   "outputs": [],
   "source": [
    "relevant_docs = pred.naics_collection.query(\n",
    "            query_embeddings=question_emb,\n",
    "            # where={\n",
    "            #     \"$and\": [\n",
    "            #         {\"TYPE\": {\"$eq\": \"CHILD\"}},\n",
    "            #         {\"metadata_field\": {\"$eq\": parent_names[0]}},\n",
    "            #     ]\n",
    "            # },\n",
    "            where={\"TYPE\": \"PARENT\"},\n",
    "            n_results=3,\n",
    "        )"
   ]
  },
  {
   "cell_type": "code",
   "execution_count": 30,
   "metadata": {},
   "outputs": [
    {
     "name": "stdout",
     "output_type": "stream",
     "text": [
      "The autoreload extension is already loaded. To reload it, use:\n",
      "  %reload_ext autoreload\n"
     ]
    }
   ],
   "source": [
    "from app.vectordb import _get_docs_metadata\n",
    "%load_ext autoreload\n",
    "%autoreload 2\n",
    "docs,metadata = _get_docs_metadata()"
   ]
  },
  {
   "cell_type": "code",
   "execution_count": 31,
   "metadata": {},
   "outputs": [
    {
     "data": {
      "text/plain": [
       "('Industries in the Crop Production subsector grow crops mainly for food and fiber.  The subsector comprises establishments, such as farms, orchards, groves, greenhouses, and nurseries, primarily engaged in growing crops, plants, vines, or trees and their seeds.The industries in this subsector are grouped by similarity of production activity, including biological and physiological characteristics and economic requirements, the length of growing season, degree of crop rotation, extent of input specialization, labor requirements, and capital demands.  The production process is typically completed when the raw product or commodity grown reaches the \"farm gate\" for market, that is, at the point of first sale or price determination.Establishments are classified in the Crop Production subsector when crop production (i.e., value of crops for market) accounts for one-half or more of the establishment\\'s total agricultural production.  Within the subsector, establishments are classified in a s',\n",
       " {'NAICS CODE': '111',\n",
       "  'DESCRIPTION': 'Industries in the Crop Production subsector grow crops mainly for food and fiber.  The subsector comprises establishments, such as farms, orchards, groves, greenhouses, and nurseries, primarily engaged in growing crops, plants, vines, or trees and their seeds.The industries in this subsector are grouped by similarity of production activity, including biological and physiological characteristics and economic requirements, the length of growing season, degree of crop rotation, extent of input specialization, labor requirements, and capital demands.  The production process is typically completed when the raw product or commodity grown reaches the \"farm gate\" for market, that is, at the point of first sale or price determination.Establishments are classified in the Crop Production subsector when crop production (i.e., value of crops for market) accounts for one-half or more of the establishment\\'s total agricultural production.  Within the subsector, establishments are classified in a s',\n",
       "  'CHILD NAME': 'Crop Production',\n",
       "  'TYPE': 'CHILD',\n",
       "  'PARENT': 'Agriculture, Forestry, Fishing and Hunting'})"
      ]
     },
     "execution_count": 31,
     "metadata": {},
     "output_type": "execute_result"
    }
   ],
   "source": [
    "docs[1],metadata[1]"
   ]
  },
  {
   "cell_type": "code",
   "execution_count": 24,
   "metadata": {},
   "outputs": [
    {
     "data": {
      "text/plain": [
       "['Professional, Scientific, and Technical Services',\n",
       " 'Management of Companies and Enterprises',\n",
       " 'Manufacturing']"
      ]
     },
     "execution_count": 24,
     "metadata": {},
     "output_type": "execute_result"
    }
   ],
   "source": [
    "parent_names = [parent_name for parent_name in relevant_docs['documents'][0]]\n",
    "parent_names"
   ]
  },
  {
   "cell_type": "code",
   "execution_count": 8,
   "metadata": {},
   "outputs": [
    {
     "data": {
      "text/plain": [
       "['Professional, Scientific, and Technical Services']"
      ]
     },
     "execution_count": 8,
     "metadata": {},
     "output_type": "execute_result"
    }
   ],
   "source": [
    "parent_names = [parent_name[0] for parent_name in rdocs['documents']]\n",
    "parent_names"
   ]
  },
  {
   "cell_type": "code",
   "execution_count": 7,
   "metadata": {},
   "outputs": [],
   "source": [
    "# rdocs['embeddings'][0][0]"
   ]
  },
  {
   "cell_type": "code",
   "execution_count": 16,
   "metadata": {},
   "outputs": [],
   "source": [
    "child_docs = pred.query_database(rdocs['embeddings'][0],\"child\",parent_names)"
   ]
  },
  {
   "cell_type": "code",
   "execution_count": 15,
   "metadata": {},
   "outputs": [],
   "source": [
    "relevant_docs = pred.naics_collection.query(\n",
    "            query_embeddings=qemb,\n",
    "            # where={\n",
    "            #     \"$and\": [\n",
    "            #         {\"TYPE\": {\"$eq\": \"CHILD\"}},\n",
    "            #         {\"metadata_field\": {\"$eq\": parent_names[0]}},\n",
    "            #     ]\n",
    "            # },\n",
    "            where={\"TYPE\": \"CHILD\"},\n",
    "            n_results=1,\n",
    "        )"
   ]
  },
  {
   "cell_type": "code",
   "execution_count": 16,
   "metadata": {},
   "outputs": [
    {
     "data": {
      "text/plain": [
       "{'ids': [['956']],\n",
       " 'distances': [[0.7416042685508728]],\n",
       " 'metadatas': [[{'DESCRIPTION': ' See industry description for 513210. This industry comprises establishments primarily engaged in software publishing.  Establishments in this industry carry out operations necessary for producing and distributing computer software, such as designing, providing documentation, assisting in installation, and providing support services to software purchasers.  These establishments may design, develop, and publish, or publish only.  These establishments may publish and distribute software through subscriptions and/or downloads. Cross-References. Establishments primarily engaged in--',\n",
       "    'NAICS CODE': '5132, 51321, 513210',\n",
       "    'PARENT': 'Information',\n",
       "    'TYPE': 'CHILD'}]],\n",
       " 'embeddings': None,\n",
       " 'documents': [['Software Publishers']],\n",
       " 'uris': None,\n",
       " 'data': None}"
      ]
     },
     "execution_count": 16,
     "metadata": {},
     "output_type": "execute_result"
    }
   ],
   "source": [
    "relevant_docs"
   ]
  },
  {
   "cell_type": "code",
   "execution_count": null,
   "metadata": {},
   "outputs": [],
   "source": []
  }
 ],
 "metadata": {
  "kernelspec": {
   "display_name": "Python 3",
   "language": "python",
   "name": "python3"
  },
  "language_info": {
   "codemirror_mode": {
    "name": "ipython",
    "version": 3
   },
   "file_extension": ".py",
   "mimetype": "text/x-python",
   "name": "python",
   "nbconvert_exporter": "python",
   "pygments_lexer": "ipython3",
   "version": "3.10.12"
  }
 },
 "nbformat": 4,
 "nbformat_minor": 2
}
